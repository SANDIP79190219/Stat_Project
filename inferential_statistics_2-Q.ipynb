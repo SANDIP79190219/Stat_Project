{
 "cells": [
  {
   "cell_type": "markdown",
   "metadata": {},
   "source": [
    "# Inferential statistics II - Bootstrapping"
   ]
  },
  {
   "cell_type": "markdown",
   "metadata": {},
   "source": [
    "## Introduction"
   ]
  },
  {
   "cell_type": "markdown",
   "metadata": {},
   "source": [
    "In the previous frequentist mini-projects, you did frequentist calculations to perform inference from a sample of data. Such inference relies on theory largely developed from the 19th-Century onwards that is subject to certain assumptions or theoretical limits. These are fine if those assumptions hold for the particular case you're working on, and what you want to do has a known theoretical distribution (for example the mean of a sampling distribution that we looked at in the previous mini-project.)"
   ]
  },
  {
   "cell_type": "markdown",
   "metadata": {},
   "source": [
    "In this mini-project, you'll use the same medical charge data you used in the frequentist inference mini-project, but this time you'll make inferences about the population using bootstrapping (ie. simulating repeated re-runs of an experiment.) If frequentism is about using assumptions and theoretical results to calculate what we expect to happen were an experiment to be run again and again and again, then bootstrapping is about using computing power to essentially re-run the sample draw again and again and again to see what actually happens."
   ]
  },
  {
   "cell_type": "markdown",
   "metadata": {},
   "source": [
    "## Prerequisites"
   ]
  },
  {
   "cell_type": "markdown",
   "metadata": {},
   "source": [
    "While these exercises do not strictly depend on these concepts, we encourage you to complete the previous mini-projects before starting this one so that you can approach this assignment with a good understanding of frequentist concepts like:\n",
    "* the _z_-statistic\n",
    "* the _t_-statistic\n",
    "* the difference and relationship between the two\n",
    "* the Central Limit Theorem, its assumptions and consequences\n",
    "* how to estimate the population mean and standard deviation from a sample\n",
    "* the concept of a sampling distribution of a test statistic, particularly for the mean\n",
    "* how to combine these concepts to calculate confidence intervals and p-values\n",
    "* how those confidence intervals and p-values allow you to perform hypothesis (or A/B) tests"
   ]
  },
  {
   "cell_type": "markdown",
   "metadata": {},
   "source": [
    "To complete mini-project, it's important that you first complete the bootstrap resources listed in this subunit, as they contain valuable information about how to calculate bootstrap replicates of summary statistics. Having an basic understanding of what confidence intervals and p-values are will also be helpful (we touch on them in this mini-project, but please speak to your mentor or conduct individual research if you'd like to learn more.) "
   ]
  },
  {
   "cell_type": "code",
   "execution_count": 1,
   "metadata": {},
   "outputs": [],
   "source": [
    "import pandas as pd\n",
    "import numpy as np\n",
    "from numpy.random import seed\n",
    "import matplotlib.pyplot as plt"
   ]
  },
  {
   "cell_type": "markdown",
   "metadata": {},
   "source": [
    "## Medical charge data set"
   ]
  },
  {
   "cell_type": "code",
   "execution_count": 2,
   "metadata": {},
   "outputs": [],
   "source": [
    "med_charges = pd.read_csv('data/insurance2.csv')"
   ]
  },
  {
   "cell_type": "code",
   "execution_count": 3,
   "metadata": {},
   "outputs": [
    {
     "data": {
      "text/html": [
       "<div>\n",
       "<style scoped>\n",
       "    .dataframe tbody tr th:only-of-type {\n",
       "        vertical-align: middle;\n",
       "    }\n",
       "\n",
       "    .dataframe tbody tr th {\n",
       "        vertical-align: top;\n",
       "    }\n",
       "\n",
       "    .dataframe thead th {\n",
       "        text-align: right;\n",
       "    }\n",
       "</style>\n",
       "<table border=\"1\" class=\"dataframe\">\n",
       "  <thead>\n",
       "    <tr style=\"text-align: right;\">\n",
       "      <th></th>\n",
       "      <th>age</th>\n",
       "      <th>sex</th>\n",
       "      <th>bmi</th>\n",
       "      <th>children</th>\n",
       "      <th>smoker</th>\n",
       "      <th>region</th>\n",
       "      <th>charges</th>\n",
       "      <th>insuranceclaim</th>\n",
       "    </tr>\n",
       "  </thead>\n",
       "  <tbody>\n",
       "    <tr>\n",
       "      <th>0</th>\n",
       "      <td>19</td>\n",
       "      <td>0</td>\n",
       "      <td>27.900</td>\n",
       "      <td>0</td>\n",
       "      <td>1</td>\n",
       "      <td>3</td>\n",
       "      <td>16884.92400</td>\n",
       "      <td>1</td>\n",
       "    </tr>\n",
       "    <tr>\n",
       "      <th>1</th>\n",
       "      <td>18</td>\n",
       "      <td>1</td>\n",
       "      <td>33.770</td>\n",
       "      <td>1</td>\n",
       "      <td>0</td>\n",
       "      <td>2</td>\n",
       "      <td>1725.55230</td>\n",
       "      <td>1</td>\n",
       "    </tr>\n",
       "    <tr>\n",
       "      <th>2</th>\n",
       "      <td>28</td>\n",
       "      <td>1</td>\n",
       "      <td>33.000</td>\n",
       "      <td>3</td>\n",
       "      <td>0</td>\n",
       "      <td>2</td>\n",
       "      <td>4449.46200</td>\n",
       "      <td>0</td>\n",
       "    </tr>\n",
       "    <tr>\n",
       "      <th>3</th>\n",
       "      <td>33</td>\n",
       "      <td>1</td>\n",
       "      <td>22.705</td>\n",
       "      <td>0</td>\n",
       "      <td>0</td>\n",
       "      <td>1</td>\n",
       "      <td>21984.47061</td>\n",
       "      <td>0</td>\n",
       "    </tr>\n",
       "    <tr>\n",
       "      <th>4</th>\n",
       "      <td>32</td>\n",
       "      <td>1</td>\n",
       "      <td>28.880</td>\n",
       "      <td>0</td>\n",
       "      <td>0</td>\n",
       "      <td>1</td>\n",
       "      <td>3866.85520</td>\n",
       "      <td>1</td>\n",
       "    </tr>\n",
       "  </tbody>\n",
       "</table>\n",
       "</div>"
      ],
      "text/plain": [
       "   age  sex     bmi  children  smoker  region      charges  insuranceclaim\n",
       "0   19    0  27.900         0       1       3  16884.92400               1\n",
       "1   18    1  33.770         1       0       2   1725.55230               1\n",
       "2   28    1  33.000         3       0       2   4449.46200               0\n",
       "3   33    1  22.705         0       0       1  21984.47061               0\n",
       "4   32    1  28.880         0       0       1   3866.85520               1"
      ]
     },
     "execution_count": 3,
     "metadata": {},
     "output_type": "execute_result"
    }
   ],
   "source": [
    "med_charges.head()"
   ]
  },
  {
   "cell_type": "markdown",
   "metadata": {},
   "source": [
    "In the previous assignment, you used the frequentist approach to estimate the lower limit for the 95% confidence interval on the mean hospital charge. This approach relies on statistical theory that has been developed over the years and is also limited to statistics for which theoretical results on the sampling distribution exist. These results are remarkably useful and applicable much of the time and under a surprisingly wide range of conditions."
   ]
  },
  {
   "cell_type": "markdown",
   "metadata": {},
   "source": [
    "Having calculated the 95% lower confidence interval using frequentist theory in the previous exercise, you'll now use bootstrap inference to verify your calculations and check that you get consistent results without making the assumptions required before. After all, the distribution of charges really was very non-normal."
   ]
  },
  {
   "cell_type": "markdown",
   "metadata": {},
   "source": [
    "__Q:__ Use bootstrap sampling to estimate the same 95% confidence interval lower limit as before."
   ]
  },
  {
   "cell_type": "markdown",
   "metadata": {},
   "source": [
    "__A:__"
   ]
  },
  {
   "cell_type": "code",
   "execution_count": 4,
   "metadata": {},
   "outputs": [],
   "source": [
    "np.random.seed(47)\n",
    "N_rep = 10000\n",
    "\n",
    "def bootstrap_replicate_1d(data, func):\n",
    "    \"\"\"Generate bootstrap replicate of 1D data.\"\"\"\n",
    "    bs_sample = np.random.choice(data, len(data))\n",
    "    return func(bs_sample)\n",
    "\n",
    "bs_replicates = np.empty(N_rep)\n",
    "for i in range(N_rep):\n",
    "    bs_replicates[i] = bootstrap_replicate_1d(med_charges['charges'], np.mean)"
   ]
  },
  {
   "cell_type": "code",
   "execution_count": 5,
   "metadata": {},
   "outputs": [
    {
     "data": {
      "text/plain": [
       "array([12624.86211913, 13918.00929997])"
      ]
     },
     "execution_count": 5,
     "metadata": {},
     "output_type": "execute_result"
    }
   ],
   "source": [
    "np.percentile(bs_replicates, [2.5, 97.5])"
   ]
  },
  {
   "cell_type": "markdown",
   "metadata": {},
   "source": [
    "If you performed 10000 replicates immediately after setting the random seed to 47, you should get the value 12724 here, which compares very well with the value 12725 obtained using the _t_-distribution confidence interval previously. It is a most pleasant result to see the predictions of classical frequentist theory match with results that are now possible through the number-crunching ability of computers."
   ]
  },
  {
   "cell_type": "markdown",
   "metadata": {},
   "source": [
    "Remember, in the previous mini-projects, we saw that there are two ways of performing a _t_-test from a sample, depending on whether we can assume the groups have equal variance or not. We can actually easily test this using the bootstrap approach!"
   ]
  },
  {
   "cell_type": "markdown",
   "metadata": {},
   "source": [
    "__Q:__ Calculate the 95% confidence interval for the difference between the standard deviations of insurance and non-insurance claim charges (insured - non-insured). Calculate the differences over 10000 replicates. Plot the histogram of values and mark the locations of the percentiles. State the null and alternative hypothesis and comment on whether you would retain or reject the null hypothesis in this case and why."
   ]
  },
  {
   "cell_type": "markdown",
   "metadata": {},
   "source": [
    "__A:__"
   ]
  },
  {
   "cell_type": "markdown",
   "metadata": {},
   "source": [
    "Calculate the 95% confidence interval for the difference between the standard deviations of insurance and non-insurance claim charges (insured - non-insured). \n",
    "\n",
    "Calculate the differences over 10000 replicates. \n"
   ]
  },
  {
   "cell_type": "code",
   "execution_count": 8,
   "metadata": {},
   "outputs": [],
   "source": [
    "np.random.seed(47)\n",
    "N_rep = 10000\n",
    "\n",
    "def bootstrap_replicate_1d(data_1, data_2, func):\n",
    "    \"\"\"Generate bootstrap replicate of 1D data.\"\"\"\n",
    "    bs_sample1 = np.random.choice(data_1, len(data_1))\n",
    "    bs_sample2 = np.random.choice(data_2, len(data_2))\n",
    "    return func(bs_sample1) - func(bs_sample2)\n",
    "\n",
    "data1 = med_charges['charges'][med_charges['insuranceclaim']==1]\n",
    "data2 = med_charges['charges'][med_charges['insuranceclaim']==0]\n",
    "\n",
    "bs_replicates = np.empty(N_rep)\n",
    "for i in range(N_rep):\n",
    "    bs_replicates[i] = bootstrap_replicate_1d(data1, data2, np.std)"
   ]
  },
  {
   "cell_type": "markdown",
   "metadata": {},
   "source": [
    "Plot the histogram of values and mark the locations of the percentiles. \n"
   ]
  },
  {
   "cell_type": "code",
   "execution_count": 9,
   "metadata": {},
   "outputs": [
    {
     "data": {
      "image/png": "[encoded data removed]",
      "text/plain": [
       "<Figure size 432x288 with 1 Axes>"
      ]
     },
     "metadata": {
      "needs_background": "light"
     },
     "output_type": "display_data"
    }
   ],
   "source": [
    "_ = plt.hist(bs_replicates , bins=10)\n",
    "_ = plt.axvline(np.mean(bs_replicates), color='r')\n",
    "_ = plt.axvline(np.percentile(bs_replicates, [2.5, 97.5])[0], color='r', linestyle='-.')\n",
    "_ = plt.axvline(np.percentile(bs_replicates, [2.5, 97.5])[1], color='r', linestyle='-.')"
   ]
  },
  {
   "cell_type": "code",
   "execution_count": 10,
   "metadata": {},
   "outputs": [
    {
     "data": {
      "text/plain": [
       "array([6681.572467  , 8502.74820416])"
      ]
     },
     "execution_count": 10,
     "metadata": {},
     "output_type": "execute_result"
    }
   ],
   "source": [
    "np.percentile(bs_replicates, [2.5, 97.5])"
   ]
  },
  {
   "cell_type": "markdown",
   "metadata": {},
   "source": [
    "\n",
    "State the null and alternative hypothesis and comment on whether you would retain or reject the null hypothesis in this case and why."
   ]
  },
  {
   "cell_type": "markdown",
   "metadata": {},
   "source": [
    "* Null hypothesis [ Insurance and non-insurance claim charges have same Standard Deviation ]\n",
    "* Si - Sn = 0\n",
    "* Alternative hypothesis [ Insurance and non-insurance claim charges dont have same Standard Deviation ]\n",
    "* Si - Sn ≠ 0"
   ]
  },
  {
   "cell_type": "markdown",
   "metadata": {},
   "source": [
    "* Here we are getting the Standard Deviation difference between  6681.57 and 8502.75 within 95% Confidence interval.\n",
    "* So we can reject the null Hypothesis [  i.e getting std diff 0 ]"
   ]
  },
  {
   "cell_type": "markdown",
   "metadata": {},
   "source": [
    "## Confidence interval and p-value"
   ]
  },
  {
   "cell_type": "markdown",
   "metadata": {},
   "source": [
    "The confidence interval above is often a useful quantity to estimate. If we wish to limit our expected probability of making a Type I error (where we wrongly reject the null hypothesis, and it is, instead, true) to $\\alpha$, the associated confidence interval is our estimate of the interval within which we expect the true population value to be found $100\\times(1 - \\alpha)$% of the time we do this test. In the above we performed bootstrap replicates to estimate the interval and reject the null hypothesis if this interval did not contain zero. You will sometimes see such an interval reported in the output of statistical functions.\n",
    "\n",
    "The partner of the confidence interval is the p-value. The p-value and the confidence interval are linked through our choice of $\\alpha$. The p-value tells us how likely it is, under the null hypothesis, to get an outcome at least as extreme as what was observed. If this fails to reach the level of our _pre-specified_ $\\alpha$, we decide the null hypothesis is sufficiently unlikely to be true and thus reject it. To calculate this p-value via the bootstrap, we have to put ourselves in a position where we are simulating the null hypothesis being true and then calculate the fraction of times we observe a result at least as extreme as that actually observed.\n",
    "\n",
    "Remember how, previously, you used the _t_-test to calculate the p-value for the observed difference between the means of insured and non-insured medical cases. We're now going to repeat this, this time using the bootstrap approach.\n",
    "\n",
    "__Q:__ Perform a bootstrapped hypothesis test at the 5% significance level ($\\alpha = 0.05$) to calculate the p-value of the observed difference between insurance and non-insurance charges, state your null and alternative hypotheses and whether you retain or reject the null hypothesis for the given significance level."
   ]
  },
  {
   "cell_type": "markdown",
   "metadata": {},
   "source": [
    "__A:__"
   ]
  },
  {
   "cell_type": "markdown",
   "metadata": {},
   "source": [
    "* We are testing the hypothesis that the diff in a means is 0 for the two samples. \n",
    "* We assume that the diff in mean for the two samples is 0.\n",
    "* Ho:  x̅i - x̅n = 0 \n",
    "* Ha:  x̅i - x̅n ≠ 0\n",
    "\n",
    "\n",
    "To Perform t test on the given sample we will draw 30 sample [ Insurance and non-insurance claim charges ]\n",
    "* And we also assumed that both sample do not have equal variance"
   ]
  },
  {
   "cell_type": "code",
   "execution_count": 151,
   "metadata": {},
   "outputs": [],
   "source": [
    "from scipy.stats import stats\n",
    "np.random.seed(47)\n",
    "N_rep = 10000\n",
    "\n",
    "def bootstrap_replicate_1d(data_1, data_2, func, n):\n",
    "    \"\"\"Generate bootstrap replicate of 1D data.\"\"\"\n",
    "    bs_sample1 = np.random.choice(data_1, n)\n",
    "    bs_sample2 = np.random.choice(data_2, n)\n",
    "    return func(bs_sample1, bs_sample2, equal_var = False)\n",
    "\n",
    "data1 = med_charges['charges'][med_charges['insuranceclaim']==1]\n",
    "data2 = med_charges['charges'][med_charges['insuranceclaim']==0]\n",
    "t_stat  = np.empty(N_rep)\n",
    "p_value = np.empty(N_rep)\n",
    "\n",
    "#bs_replicates = np.empty(N_rep)\n",
    "for i in range(N_rep):\n",
    "    t_stat[i], p_value[i] = bootstrap_replicate_1d(data1, data2, stats.ttest_ind, 30)"
   ]
  },
  {
   "cell_type": "code",
   "execution_count": 152,
   "metadata": {},
   "outputs": [
    {
     "name": "stdout",
     "output_type": "stream",
     "text": [
      "Probability of accepting null hypothesis , if we perform a t_test 10000 times is :- p =  0.7728\n",
      "Probability of rejecting null hypothesis , if we perform a t_test 10000 times is :- p  0.2272\n"
     ]
    }
   ],
   "source": [
    "p = np.sum(p_value < 0.05 ) / 10000\n",
    "\n",
    "# Print the p-value\n",
    "print('Probability of accepting null hypothesis , if we perform a t_test 10000 times is :- p = ', p)\n",
    "\n",
    "p = np.sum(p_value > 0.05 ) / 10000 \n",
    "\n",
    "# Print the p-value\n",
    "print('Probability of rejecting null hypothesis , if we perform a t_test 10000 times is :- p ', p)"
   ]
  },
  {
   "cell_type": "markdown",
   "metadata": {},
   "source": [
    "__Q:__ To put the above result in perspective, plot the histogram of your bootstrapped differences along with lines marking the locations of the observed difference. (Why would we plot more than one line, given that we only have one observed difference?)"
   ]
  },
  {
   "cell_type": "markdown",
   "metadata": {},
   "source": [
    "__A:__"
   ]
  },
  {
   "cell_type": "code",
   "execution_count": 156,
   "metadata": {},
   "outputs": [],
   "source": [
    "np.random.seed(47)\n",
    "N_rep = 10000\n",
    "\n",
    "def bootstrap_replicate_1d(data_1, data_2, func):\n",
    "    \"\"\"Generate bootstrap replicate of 1D data.\"\"\"\n",
    "    bs_sample1 = np.random.choice(data_1, len(data_1))\n",
    "    bs_sample2 = np.random.choice(data_2, len(data_2))\n",
    "    return func(bs_sample1) - func(bs_sample2)\n",
    "\n",
    "data1 = med_charges['charges'][med_charges['insuranceclaim']==1]\n",
    "data2 = med_charges['charges'][med_charges['insuranceclaim']==0]\n",
    "\n",
    "\n",
    "\n",
    "bs_replicates = np.empty(N_rep)\n",
    "for i in range(N_rep):\n",
    "    bs_replicates[i] = bootstrap_replicate_1d(data1, data2, np.mean)"
   ]
  },
  {
   "cell_type": "code",
   "execution_count": 157,
   "metadata": {},
   "outputs": [
    {
     "data": {
      "image/png": "[encoded data removed]",
      "text/plain": [
       "<Figure size 432x288 with 1 Axes>"
      ]
     },
     "metadata": {
      "needs_background": "light"
     },
     "output_type": "display_data"
    }
   ],
   "source": [
    "_ = plt.hist(bs_replicates , bins=10)\n",
    "_ = plt.axvline(np.mean(bs_replicates), color='r')\n",
    "_ = plt.axvline(np.percentile(bs_replicates, [2.5, 97.5])[0], color='r', linestyle='-.')\n",
    "_ = plt.axvline(np.percentile(bs_replicates, [2.5, 97.5])[1], color='r', linestyle='-.')"
   ]
  },
  {
   "cell_type": "code",
   "execution_count": 158,
   "metadata": {},
   "outputs": [
    {
     "data": {
      "text/plain": [
       "array([6500.3403758 , 8734.12810232])"
      ]
     },
     "execution_count": 158,
     "metadata": {},
     "output_type": "execute_result"
    }
   ],
   "source": [
    "np.percentile(bs_replicates, [2.5, 97.5])"
   ]
  },
  {
   "cell_type": "markdown",
   "metadata": {},
   "source": [
    "We Plot the lines to show how much observed difference we get if we perform experiment 10000 times [ with given confidence interval ]"
   ]
  },
  {
   "cell_type": "markdown",
   "metadata": {},
   "source": [
    "__Q:__ Compare your p-value above with that obtained using the _t_-test function in the previous assignment. Do you think you would want to try to perform enough bootstrap replicates to observe a random difference as large as that we did observe?"
   ]
  },
  {
   "cell_type": "markdown",
   "metadata": {},
   "source": [
    "__A:__"
   ]
  },
  {
   "cell_type": "markdown",
   "metadata": {},
   "source": [
    "* p-value given above ---"
   ]
  },
  {
   "cell_type": "code",
   "execution_count": 163,
   "metadata": {},
   "outputs": [
    {
     "data": {
      "image/png": "[encoded data removed]",
      "text/plain": [
       "<Figure size 432x288 with 1 Axes>"
      ]
     },
     "metadata": {
      "needs_background": "light"
     },
     "output_type": "display_data"
    }
   ],
   "source": [
    "_ = plt.hist(p_value , bins=10)\n",
    "_ = plt.axvline(np.mean(p_value), color='r')\n",
    "_ = plt.axvline(np.percentile(p_value, [2.5, 97.5])[0], color='r', linestyle='-.')\n",
    "_ = plt.axvline(np.percentile(p_value, [2.5, 97.5])[1], color='r', linestyle='-.')"
   ]
  },
  {
   "cell_type": "markdown",
   "metadata": {},
   "source": [
    "* Obtained using the t-test function in the previous assignment is --- p-value :-    1.1105103216309125e-37\n",
    "\n",
    "* And 10000 samples for bootstrap replicates are sufficient \n",
    "\n",
    "* we can perform experiment for 1000 10000 and 50000 sample and observe the result"
   ]
  },
  {
   "cell_type": "code",
   "execution_count": 142,
   "metadata": {},
   "outputs": [
    {
     "name": "stdout",
     "output_type": "stream",
     "text": [
      "Probability of accepting null hypothesis , if we perform a t_test 1000 times is :- p =  0.787\n",
      "Probability of rejecting null hypothesis , if we perform a t_test 1000 times is :- p  0.213\n"
     ]
    }
   ],
   "source": [
    "from scipy.stats import stats\n",
    "np.random.seed(47)\n",
    "N_rep = 1000\n",
    "n=30 #sample_size\n",
    "\n",
    "def bootstrap_replicate_1d(data_1, data_2, func, n):\n",
    "    \"\"\"Generate bootstrap replicate of 1D data.\"\"\"\n",
    "    bs_sample1 = np.random.choice(data_1, n)\n",
    "    bs_sample2 = np.random.choice(data_2, n)\n",
    "    return func(bs_sample1, bs_sample2, equal_var = False)\n",
    "\n",
    "data1 = med_charges['charges'][med_charges['insuranceclaim']==1]\n",
    "data2 = med_charges['charges'][med_charges['insuranceclaim']==0]\n",
    "t_stat  = np.empty(N_rep)\n",
    "p_value = np.empty(N_rep)\n",
    "\n",
    "#bs_replicates = np.empty(N_rep)\n",
    "for i in range(N_rep):\n",
    "    t_stat[i], p_value[i] = bootstrap_replicate_1d(data1, data2, stats.ttest_ind, n)\n",
    "p = np.sum(p_value < 0.05 ) / N_rep\n",
    "\n",
    "# Print the p-value\n",
    "print('Probability of accepting null hypothesis , if we perform a t_test 1000 times is :- p = ', p)\n",
    "\n",
    "p = np.sum(p_value > 0.05 ) / N_rep \n",
    "\n",
    "# Print the p-value\n",
    "print('Probability of rejecting null hypothesis , if we perform a t_test 1000 times is :- p ', p)"
   ]
  },
  {
   "cell_type": "code",
   "execution_count": 143,
   "metadata": {},
   "outputs": [
    {
     "name": "stdout",
     "output_type": "stream",
     "text": [
      "Probability of accepting null hypothesis , if we perform a t_test 10000 times is :- p =  0.7728\n",
      "Probability of rejecting null hypothesis , if we perform a t_test 10000 times is :- p  0.2272\n"
     ]
    }
   ],
   "source": [
    "from scipy.stats import stats\n",
    "np.random.seed(47)\n",
    "N_rep = 10000\n",
    "n=30 #sample_size\n",
    "\n",
    "def bootstrap_replicate_1d(data_1, data_2, func, n):\n",
    "    \"\"\"Generate bootstrap replicate of 1D data.\"\"\"\n",
    "    bs_sample1 = np.random.choice(data_1, n)\n",
    "    bs_sample2 = np.random.choice(data_2, n)\n",
    "    return func(bs_sample1, bs_sample2, equal_var = False)\n",
    "\n",
    "data1 = med_charges['charges'][med_charges['insuranceclaim']==1]\n",
    "data2 = med_charges['charges'][med_charges['insuranceclaim']==0]\n",
    "t_stat  = np.empty(N_rep)\n",
    "p_value = np.empty(N_rep)\n",
    "\n",
    "#bs_replicates = np.empty(N_rep)\n",
    "for i in range(N_rep):\n",
    "    t_stat[i], p_value[i] = bootstrap_replicate_1d(data1, data2, stats.ttest_ind, n)\n",
    "p = np.sum(p_value < 0.05 ) / N_rep\n",
    "\n",
    "# Print the p-value\n",
    "print('Probability of accepting null hypothesis , if we perform a t_test 10000 times is :- p = ', p)\n",
    "\n",
    "p = np.sum(p_value > 0.05 ) / N_rep \n",
    "\n",
    "# Print the p-value\n",
    "print('Probability of rejecting null hypothesis , if we perform a t_test 10000 times is :- p ', p)"
   ]
  },
  {
   "cell_type": "code",
   "execution_count": 144,
   "metadata": {},
   "outputs": [
    {
     "name": "stdout",
     "output_type": "stream",
     "text": [
      "Probability of accepting null hypothesis , if we perform a t_test 50000 times is :- p =  0.7785\n",
      "Probability of rejecting null hypothesis , if we perform a t_test 50000 times is :- p  0.2215\n"
     ]
    }
   ],
   "source": [
    "from scipy.stats import stats\n",
    "np.random.seed(47)\n",
    "N_rep = 50000\n",
    "n=30 #sample_size\n",
    "\n",
    "def bootstrap_replicate_1d(data_1, data_2, func, n):\n",
    "    \"\"\"Generate bootstrap replicate of 1D data.\"\"\"\n",
    "    bs_sample1 = np.random.choice(data_1, n)\n",
    "    bs_sample2 = np.random.choice(data_2, n)\n",
    "    return func(bs_sample1, bs_sample2, equal_var = False)\n",
    "\n",
    "data1 = med_charges['charges'][med_charges['insuranceclaim']==1]\n",
    "data2 = med_charges['charges'][med_charges['insuranceclaim']==0]\n",
    "t_stat  = np.empty(N_rep)\n",
    "p_value = np.empty(N_rep)\n",
    "\n",
    "#bs_replicates = np.empty(N_rep)\n",
    "for i in range(N_rep):\n",
    "    t_stat[i], p_value[i] = bootstrap_replicate_1d(data1, data2, stats.ttest_ind, n)\n",
    "p = np.sum(p_value < 0.05 ) / N_rep\n",
    "\n",
    "# Print the p-value\n",
    "print('Probability of accepting null hypothesis , if we perform a t_test 50000 times is :- p = ', p)\n",
    "\n",
    "p = np.sum(p_value > 0.05 ) / N_rep \n",
    "\n",
    "# Print the p-value\n",
    "print('Probability of rejecting null hypothesis , if we perform a t_test 50000 times is :- p ', p)"
   ]
  },
  {
   "cell_type": "markdown",
   "metadata": {},
   "source": [
    "__Q:__ Consider the two variants of the _t_-test we performed in the previous assignment. Which one would you use now?"
   ]
  },
  {
   "cell_type": "markdown",
   "metadata": {},
   "source": [
    "__A:__"
   ]
  },
  {
   "cell_type": "markdown",
   "metadata": {},
   "source": [
    "* Between stats.ttest_ind function with varience is equal or not for the two sample [  equal_var = False & equal_var = True ]\n",
    "\n",
    "* We use stats.ttest_ind(sample_A,sample_B, equal_var = False) "
   ]
  },
  {
   "cell_type": "markdown",
   "metadata": {},
   "source": [
    "__Q:__ If, instead of being asked whether the means of two groups were different, you were working with an ad-recommender team who wanted to release a new recommendation algorithm, and you were looking at click-through rate both for the current algorithm (call it A) and from trials of their new algorithm (call it B), would you perform a two-sided test as above? What would be your null and alternative hypotheses and what would be the real-world consequence of rejecting the null hypothesis?"
   ]
  },
  {
   "cell_type": "markdown",
   "metadata": {},
   "source": [
    "release a new recommendation algorithm, \n",
    "\n",
    "and you were looking at click-through rate both for the current algorithm (call it A) and from trials of their new algorithm (call it B), \n",
    "\n",
    "would you perform a two-sided test as above?\n",
    "\n",
    "What would be your null and alternative hypotheses and what would be the real-world consequence of rejecting the null hypothesis?"
   ]
  },
  {
   "cell_type": "markdown",
   "metadata": {},
   "source": [
    "__A:__"
   ]
  },
  {
   "cell_type": "markdown",
   "metadata": {},
   "source": [
    "Yes - we can perform a two-sided test as above \n",
    "\n",
    "In this case we can say our null hypothesis is -- "
   ]
  },
  {
   "cell_type": "markdown",
   "metadata": {},
   "source": [
    "# Learning outcomes\n",
    "\n",
    "You've previously applied frequentist methods to calculate confidence intervals, p-values, and perform hypothesis tests. Frequentist methods use theoretical results to calculate what we expect would happen if experiments were to be run again and again and again. Now you've seen how you can do the same things using the bootstrap approach, which does not rely on such theory, and attendant assumptions, but instead literally does run experiments again and again and again.\n",
    "\n",
    "In these exercises, you have:\n",
    "* calculated the same confidence interval lower limit as you did previously\n",
    "* tested the assumption that the variances of the two groups (insured vs. non-insured) were equal - something a bit harder to do using the frequentist method because of the nature of the sampling distribution for variance\n",
    "* calculated the p-value for the difference between the means of the two groups and compared with the result obtained using the previous frequentist approach\n",
    "\n",
    "You are now well equipped to apply the bootstrap approach to a wide variety of problems. Just think about what conditions you wish to recreate in your simulated reruns."
   ]
  }
 ],
 "metadata": {
  "kernelspec": {
   "display_name": "Python 3",
   "language": "python",
   "name": "python3"
  },
  "language_info": {
   "codemirror_mode": {
    "name": "ipython",
    "version": 3
   },
   "file_extension": ".py",
   "mimetype": "text/x-python",
   "name": "python",
   "nbconvert_exporter": "python",
   "pygments_lexer": "ipython3",
   "version": "3.7.3"
  }
 },
 "nbformat": 4,
 "nbformat_minor": 2
}
